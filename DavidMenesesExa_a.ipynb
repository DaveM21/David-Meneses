{
 "cells": [
  {
   "cell_type": "markdown",
   "metadata": {},
   "source": [
    "<img style=\"float: left;;\" src='Figures/iteso.jpg' width=\"100\" height=\"200\"/></a>\n",
    "\n",
    "# <center> <font color= #000047> DEPARTAMENTO DE MATEMÁTICAS Y FÍSICA </font> </center>\n",
    "# <center> <font color= #000047> Simulación Matemática </font> </center>\n",
    "# <center> <font color= #000047> EXAMEN 1 : Optimización </font> </center>\n",
    "# <center> <font color= #000047> Tipo: A </font> </center>\n",
    "\n",
    "        "
   ]
  },
  {
   "cell_type": "markdown",
   "metadata": {},
   "source": [
    "<div class=\"alert alert-danger\" style=\"margin: 10px\"><strong>NOTA IMPORTANTE!</strong> Asegúrese de escribir su nombre, y el código en las celdas comentadas.</div>"
   ]
  },
  {
   "cell_type": "markdown",
   "metadata": {},
   "source": [
    "<h1> Nombres: </h1>\n",
    "<hr>   "
   ]
  },
  {
   "cell_type": "code",
   "execution_count": null,
   "metadata": {},
   "outputs": [],
   "source": [
    "David Isaac Meneses Flores"
   ]
  },
  {
   "cell_type": "markdown",
   "metadata": {},
   "source": [
    "<h2>Instrucciones</h2>\n",
    "\n",
    "- Lea detenidamente los reactivos y responda con claridad. Si se requiere hacer uso de más hojas para la realización de cálculos, es necesario que se adjunten a este archivo cuando se haga entrega del examen. Es necesario adjuntar las diferentes librerías o código que se utilice para la realización del examen.\n",
    "\n",
    "- Responda de manera ordenada los reactivos.\n",
    "\n",
    "- Por cada respuesta de cada reactivo se calificará __código, figuras y comentarios__.\n",
    "\n",
    "\n",
    "<h2>Tabla de Reactivos</h2>\n",
    "\n",
    "1. [Reactivo 1 (3.5 ptos)](#Problema1)\n",
    "2. [Reactivo 2 (2.5 ptos)](#Problema2)\n",
    "3. [Reactivo 3 (4 ptos)](#Problema3)\n",
    "<hr>   "
   ]
  },
  {
   "cell_type": "code",
   "execution_count": 1,
   "metadata": {},
   "outputs": [],
   "source": [
    "import numpy as np\n",
    "import matplotlib.pyplot as plt\n",
    "%matplotlib inline\n",
    "import sympy as sym\n",
    "import scipy.optimize as opt"
   ]
  },
  {
   "cell_type": "markdown",
   "metadata": {},
   "source": [
    "<hr>   \n",
    "\n",
    "### Reactivo 1 (3.5 ptos) <a name=\"Problema1\"></a> \n",
    "\n",
    "Imaginemos que las necesidades semanales mínimas de una persona en proteínas, hidratos de\n",
    "carbono y grasas son, respectivamente, 8, 12 y 9 unidades. Supongamos que debemos obtener un\n",
    "preparado con esa composición mínima mezclando dos productos Ay B, cuyos contenidos por kilogramo\n",
    "son los que se indican en la siguiente tabla:\n"
   ]
  },
  {
   "cell_type": "code",
   "execution_count": 1,
   "metadata": {},
   "outputs": [
    {
     "data": {
      "text/html": [
       "<div>\n",
       "<style scoped>\n",
       "    .dataframe tbody tr th:only-of-type {\n",
       "        vertical-align: middle;\n",
       "    }\n",
       "\n",
       "    .dataframe tbody tr th {\n",
       "        vertical-align: top;\n",
       "    }\n",
       "\n",
       "    .dataframe thead th {\n",
       "        text-align: right;\n",
       "    }\n",
       "</style>\n",
       "<table border=\"1\" class=\"dataframe\">\n",
       "  <thead>\n",
       "    <tr style=\"text-align: right;\">\n",
       "      <th></th>\n",
       "      <th>Proteínas</th>\n",
       "      <th>Hidratos</th>\n",
       "      <th>Grasas</th>\n",
       "      <th>Costo/Kg</th>\n",
       "    </tr>\n",
       "  </thead>\n",
       "  <tbody>\n",
       "    <tr>\n",
       "      <th>A</th>\n",
       "      <td>2</td>\n",
       "      <td>6</td>\n",
       "      <td>1</td>\n",
       "      <td>600</td>\n",
       "    </tr>\n",
       "    <tr>\n",
       "      <th>B</th>\n",
       "      <td>1</td>\n",
       "      <td>1</td>\n",
       "      <td>3</td>\n",
       "      <td>400</td>\n",
       "    </tr>\n",
       "  </tbody>\n",
       "</table>\n",
       "</div>"
      ],
      "text/plain": [
       "  Proteínas Hidratos Grasas Costo/Kg\n",
       "A         2        6      1      600\n",
       "B         1        1      3      400"
      ]
     },
     "execution_count": 1,
     "metadata": {},
     "output_type": "execute_result"
    }
   ],
   "source": [
    "import pandas as pd\n",
    "df = pd.DataFrame(columns=['Proteínas', 'Hidratos', 'Grasas', 'Costo/Kg'], index = ['A','B'])\n",
    "df.loc['A', :] = [2,6,1,600]\n",
    "df.loc['B', :] = [1,1,3,400]\n",
    "df"
   ]
  },
  {
   "cell_type": "markdown",
   "metadata": {},
   "source": [
    "**¿Cuántos kilogramos de cada producto deberán comprarse semanalmente para que el costo de\n",
    "preparar la dieta sea mínimo?**\n",
    "\n",
    "> **1.1.-** Escriba la función a minimizar junto con las restricciones, explicando detalladamente cada paso (usando fórmulas en $\\LaTeX$, en celdas Markdown). Además escriba el problema en la forma \n",
    "\\begin{equation}\n",
    "\\begin{array}{ll}\n",
    "\\min_{\\boldsymbol{x}} & \\boldsymbol{c}^T\\boldsymbol{x} \\\\\n",
    "\\text{s. a. }        & \\boldsymbol{A}_{eq}\\boldsymbol{x}=\\boldsymbol{b}_{eq} \\\\\n",
    "                     & \\boldsymbol{A}\\boldsymbol{x}\\leq\\boldsymbol{b},\n",
    "\\end{array}\n",
    "\\end{equation}\n",
    "\n",
    ">proporcionando $\\boldsymbol{c}$, $\\boldsymbol{A}$ y $\\boldsymbol{b}$ ($\\boldsymbol{A}_{eq}$ y $\\boldsymbol{b}_{eq}$, de ser necesario) como arreglos de `NumPy` (no es necesario escribir en $\\LaTeX$ el problema en la forma indicada, solo proporcionar las matrices como arreglos de `NumPy`).\n",
    "\n"
   ]
  },
  {
   "cell_type": "markdown",
   "metadata": {},
   "source": [
    "#### Variables instrumentales\n",
    "\n",
    "Llamamos x al número de Kg. usados del producto A\n",
    "Llamamos y al número de Kg. usados del producto B\n",
    "\n",
    "#### Función objetivo (Minimizar)\n",
    "\n",
    "F(x) = 600x + 400y\n",
    "\n",
    "#### Restricciones \n",
    "\n",
    "2x+y >= 8\n",
    "\n",
    "6x+y >= 12\n",
    "\n",
    "x+3y >= 9"
   ]
  },
  {
   "cell_type": "code",
   "execution_count": 2,
   "metadata": {},
   "outputs": [],
   "source": [
    "c = -np.array([600, 400])\n",
    "A_ineq = np.array([[2, 1],\n",
    "                   [6, 1],\n",
    "                   [1, 3]])\n",
    "b_ineq = np.array([8, 12, 9])"
   ]
  },
  {
   "cell_type": "code",
   "execution_count": 3,
   "metadata": {},
   "outputs": [],
   "source": [
    "solucion = opt.linprog(c=c, A_ub=A_ineq, b_ub=b_ineq)"
   ]
  },
  {
   "cell_type": "code",
   "execution_count": 5,
   "metadata": {},
   "outputs": [
    {
     "data": {
      "text/plain": [
       "     con: array([], dtype=float64)\n",
       "     fun: -1941.1764705822866\n",
       " message: 'Optimization terminated successfully.'\n",
       "     nit: 5\n",
       "   slack: array([2.35294118e+00, 3.19140270e-11, 3.13615800e-11])\n",
       "  status: 0\n",
       " success: True\n",
       "       x: array([1.58823529, 2.47058824])"
      ]
     },
     "execution_count": 5,
     "metadata": {},
     "output_type": "execute_result"
    }
   ],
   "source": [
    "solucion"
   ]
  },
  {
   "cell_type": "code",
   "execution_count": 7,
   "metadata": {},
   "outputs": [],
   "source": [
    "def f1(x1):\n",
    "    return 8-2*x1\n",
    "def f2(x1):\n",
    "    return 12-6*x1\n",
    "def f3(x1):\n",
    "    return (9-x1)/3"
   ]
  },
  {
   "cell_type": "code",
   "execution_count": 9,
   "metadata": {},
   "outputs": [],
   "source": [
    "x1 = np.linspace(0, 100)\n",
    "y1 = f1(x1)\n",
    "y2 = f2(x1)\n",
    "y3 = f3(x1)"
   ]
  },
  {
   "cell_type": "code",
   "execution_count": 11,
   "metadata": {},
   "outputs": [
    {
     "data": {
      "text/plain": [
       "(0.0, 12.0, 0.0, 12.0)"
      ]
     },
     "execution_count": 11,
     "metadata": {},
     "output_type": "execute_result"
    },
    {
     "data": {
      "image/png": "[encoded data removed]",
      "text/plain": [
       "<Figure size 864x864 with 1 Axes>"
      ]
     },
     "metadata": {
      "needs_background": "light"
     },
     "output_type": "display_data"
    }
   ],
   "source": [
    "plt.figure(figsize=(12, 12))\n",
    "plt.plot(x1, y1, 'b', lw=2, label='$8-2x$')\n",
    "plt.plot(x1, y2, 'r', lw=2, label='$12-6x$')\n",
    "plt.plot(x1, y3, 'g', lw=2, label='$(9-x)/3$')\n",
    "\n",
    "plt.text(3, 2, '$(3, 2)$')\n",
    "\n",
    "plt.xlabel('$x_1$')\n",
    "plt.ylabel('$x_2$')\n",
    "plt.grid()\n",
    "plt.legend(loc=2)\n",
    "plt.axis([0, 12, 0, 12])"
   ]
  },
  {
   "cell_type": "markdown",
   "metadata": {},
   "source": [
    ">**1.2.-** Resuelva el problema utilizando la función `linprog`. ¿Cuántos kilogramos de cada producto deberán comprarse semanalmente para que el costo de\n",
    "preparar la dieta sea mínimo?"
   ]
  },
  {
   "cell_type": "markdown",
   "metadata": {},
   "source": [
    "Todos los puntos que forman la región F son soluciones factibles, y por\n",
    "paralelismo con la recta de beneficio nulo z vemos que R(3,2) es el punto\n",
    "mínimo. Por tanto, deben comprarse 3 kg. de A y 2 kg. de B para que el\n",
    "gasto sea mínimo."
   ]
  },
  {
   "cell_type": "markdown",
   "metadata": {},
   "source": [
    "Cuando la función objetivo es F(X) = 600x + 400y el valor del programa\n",
    "lineal (gasto) es 2.600 pts.\n",
    "Si la función objetivo es F(X) = 100x + 400y la solución óptima está en el\n",
    "punto Q(1,6) y el valor del programa lineal (gasto) es 3.400 pts."
   ]
  },
  {
   "cell_type": "markdown",
   "metadata": {},
   "source": [
    "<hr>   \n",
    "\n",
    "### Reactivo 2 (2.5 ptos) <a name=\"Problema2\"></a> \n",
    "\n",
    "Los siguientes datos representan el costo en dólares de la electricidad según Western Electricity Coordinating Council desde el 2014 (y su pronóstico para el 2040)\n",
    "\n",
    "Tomado de:\n",
    "https://www.quandl.com/data/EIA/AEO_2016_REF_NO_CPP_PRCE_NA_COMM_NA_ELC_NA_WECCRKS_NCNTPKWH_A-Electricity-End-Use-Prices-Commercial-Western-Electricity-Coordinating-Council-Rockies-No-CPP-AEO2016\n",
    "\n"
   ]
  },
  {
   "cell_type": "code",
   "execution_count": 77,
   "metadata": {},
   "outputs": [
    {
     "data": {
      "text/html": [
       "<div>\n",
       "<style scoped>\n",
       "    .dataframe tbody tr th:only-of-type {\n",
       "        vertical-align: middle;\n",
       "    }\n",
       "\n",
       "    .dataframe tbody tr th {\n",
       "        vertical-align: top;\n",
       "    }\n",
       "\n",
       "    .dataframe thead th {\n",
       "        text-align: right;\n",
       "    }\n",
       "</style>\n",
       "<table border=\"1\" class=\"dataframe\">\n",
       "  <thead>\n",
       "    <tr style=\"text-align: right;\">\n",
       "      <th></th>\n",
       "      <th>year</th>\n",
       "      <th>cost</th>\n",
       "    </tr>\n",
       "  </thead>\n",
       "  <tbody>\n",
       "    <tr>\n",
       "      <th>0</th>\n",
       "      <td>2014.0</td>\n",
       "      <td>10.051101</td>\n",
       "    </tr>\n",
       "    <tr>\n",
       "      <th>1</th>\n",
       "      <td>2015.0</td>\n",
       "      <td>9.259127</td>\n",
       "    </tr>\n",
       "    <tr>\n",
       "      <th>2</th>\n",
       "      <td>2016.0</td>\n",
       "      <td>9.444813</td>\n",
       "    </tr>\n",
       "    <tr>\n",
       "      <th>3</th>\n",
       "      <td>2017.0</td>\n",
       "      <td>9.557723</td>\n",
       "    </tr>\n",
       "    <tr>\n",
       "      <th>4</th>\n",
       "      <td>2018.0</td>\n",
       "      <td>9.977324</td>\n",
       "    </tr>\n",
       "  </tbody>\n",
       "</table>\n",
       "</div>"
      ],
      "text/plain": [
       "     year       cost\n",
       "0  2014.0  10.051101\n",
       "1  2015.0   9.259127\n",
       "2  2016.0   9.444813\n",
       "3  2017.0   9.557723\n",
       "4  2018.0   9.977324"
      ]
     },
     "execution_count": 77,
     "metadata": {},
     "output_type": "execute_result"
    }
   ],
   "source": [
    "# Datos extraidos de la página de quandl\n",
    "import numpy as np\n",
    "import pandas as pd\n",
    "\n",
    "data = np.array([np.arange(2014,2041),\n",
    "                [10.051101,  9.259127,  9.444813,  9.557723,  9.977324, 10.298326,\n",
    "                 10.447217, 10.550506, 10.590784, 10.657418, 10.743085, 10.831965,\n",
    "                 10.988435, 11.153055, 11.313326, 11.557165, 11.860136, 12.122511,\n",
    "                 12.356448, 12.611391, 12.814569, 13.111372, 13.357134, 13.559012,\n",
    "                 13.85861 , 14.135924, 14.436149]]).transpose()\n",
    "df = pd.DataFrame(data, columns=[\"year\",\"cost\"])\n",
    "df.head()"
   ]
  },
  {
   "cell_type": "markdown",
   "metadata": {},
   "source": [
    ">**2.1.-** Usando los años como variable independiente $x$ (los datos en $x$ corresponden a los años de 2014 a 2040, sin embargo son valores muy grandes para elevarlos a una potencia, use una representación para estos años, por ejemplo $2014 \\rightarrow 0$ y $2040\\rightarrow 27$) y los costos como variable dependiente $y$, ajustar polinomios de grado 1 hasta grado 3. Mostrar en un solo gráfico los datos del archivo contra los años, y los polinomios ajustados.\n"
   ]
  },
  {
   "cell_type": "code",
   "execution_count": 72,
   "metadata": {},
   "outputs": [],
   "source": [
    "x=df[\"year\"].values-2014\n",
    "y=df[\"cost\"].values"
   ]
  },
  {
   "cell_type": "code",
   "execution_count": 75,
   "metadata": {},
   "outputs": [
    {
     "data": {
      "text/plain": [
       "array([[2014.      ,   10.051101],\n",
       "       [2015.      ,    9.259127],\n",
       "       [2016.      ,    9.444813],\n",
       "       [2017.      ,    9.557723],\n",
       "       [2018.      ,    9.977324],\n",
       "       [2019.      ,   10.298326],\n",
       "       [2020.      ,   10.447217],\n",
       "       [2021.      ,   10.550506],\n",
       "       [2022.      ,   10.590784],\n",
       "       [2023.      ,   10.657418],\n",
       "       [2024.      ,   10.743085],\n",
       "       [2025.      ,   10.831965],\n",
       "       [2026.      ,   10.988435],\n",
       "       [2027.      ,   11.153055],\n",
       "       [2028.      ,   11.313326],\n",
       "       [2029.      ,   11.557165],\n",
       "       [2030.      ,   11.860136],\n",
       "       [2031.      ,   12.122511],\n",
       "       [2032.      ,   12.356448],\n",
       "       [2033.      ,   12.611391],\n",
       "       [2034.      ,   12.814569],\n",
       "       [2035.      ,   13.111372],\n",
       "       [2036.      ,   13.357134],\n",
       "       [2037.      ,   13.559012],\n",
       "       [2038.      ,   13.85861 ],\n",
       "       [2039.      ,   14.135924],\n",
       "       [2040.      ,   14.436149]])"
      ]
     },
     "execution_count": 75,
     "metadata": {},
     "output_type": "execute_result"
    }
   ],
   "source": [
    "data"
   ]
  },
  {
   "cell_type": "code",
   "execution_count": 78,
   "metadata": {},
   "outputs": [],
   "source": [
    "def obj1(beta,x,y):\n",
    "    f=beta[0]*x**0+beta[1]*x\n",
    "    return np.sum((y-f)**2)\n",
    "\n",
    "def objn(beta,x,y,n):\n",
    "    #f=beta[0]*x**0+beta[1]*x+beta[2]*x**2+beta[3]*x**3\n",
    "    \n",
    "    #beta=[1,-2,3]\n",
    "    #[1,x,x**2]\n",
    "    #1-2*x+3*x**2\n",
    "    f=np.dot(beta,[x**i for i in range(n+1)])\n",
    "    return np.sum((y-f)**2)"
   ]
  },
  {
   "cell_type": "code",
   "execution_count": 79,
   "metadata": {},
   "outputs": [],
   "source": [
    "opt.minimize?"
   ]
  },
  {
   "cell_type": "code",
   "execution_count": 80,
   "metadata": {},
   "outputs": [
    {
     "data": {
      "text/plain": [
       "array([0.19816957, 0.63566438])"
      ]
     },
     "execution_count": 80,
     "metadata": {},
     "output_type": "execute_result"
    }
   ],
   "source": [
    "beta0=np.random.rand(2)\n",
    "beta0"
   ]
  },
  {
   "cell_type": "code",
   "execution_count": 81,
   "metadata": {},
   "outputs": [
    {
     "data": {
      "text/plain": [
       "      fun: 2.3704889518172543\n",
       " hess_inv: array([[ 0.07010582, -0.00396825],\n",
       "       [-0.00396825,  0.00030525]])\n",
       "      jac: array([4.50015068e-06, 7.59959221e-06])\n",
       "  message: 'Optimization terminated successfully.'\n",
       "     nfev: 15\n",
       "      nit: 3\n",
       "     njev: 5\n",
       "   status: 0\n",
       "  success: True\n",
       "        x: array([9.11567661, 0.18667054])"
      ]
     },
     "execution_count": 81,
     "metadata": {},
     "output_type": "execute_result"
    }
   ],
   "source": [
    "beta0=np.random.rand(2)\n",
    "#beta0=np.array([1,1])\n",
    "sol1=opt.minimize(objn,beta0,args=(x,y,1))\n",
    "sol1"
   ]
  },
  {
   "cell_type": "code",
   "execution_count": 82,
   "metadata": {},
   "outputs": [
    {
     "data": {
      "image/png": "[encoded data removed]",
      "text/plain": [
       "<Figure size 432x288 with 1 Axes>"
      ]
     },
     "metadata": {
      "needs_background": "light"
     },
     "output_type": "display_data"
    }
   ],
   "source": [
    "plt.plot(x+2014,y,'ob',ms=3)\n",
    "n=1\n",
    "pol=np.dot(sol1.x,[x**i for i in range(n+1)]) #evaluación de un polinomio de grado n\n",
    "plt.plot(x+2014,pol,'r')\n",
    "plt.grid()"
   ]
  },
  {
   "cell_type": "code",
   "execution_count": 83,
   "metadata": {},
   "outputs": [
    {
     "data": {
      "text/plain": [
       "      fun: 0.8404250801673829\n",
       " hess_inv: array([[ 2.27239619e-01, -6.41155168e-02,  4.83489338e-03,\n",
       "        -1.06428505e-04],\n",
       "       [-6.41155168e-02,  2.61882619e-02, -2.28213049e-03,\n",
       "         5.43058126e-05],\n",
       "       [ 4.83489338e-03, -2.28213049e-03,  2.13851040e-04,\n",
       "        -5.32142292e-06],\n",
       "       [-1.06428505e-04,  5.43058126e-05, -5.32142292e-06,\n",
       "         1.36446727e-07]])\n",
       "      jac: array([-0.00725327,  0.00354134, -0.02431194, -0.70219979])\n",
       "  message: 'Desired error not necessarily achieved due to precision loss.'\n",
       "     nfev: 222\n",
       "      nit: 6\n",
       "     njev: 42\n",
       "   status: 2\n",
       "  success: False\n",
       "        x: array([9.56560489e+00, 8.52247205e-02, 3.15746150e-03, 3.14637979e-05])"
      ]
     },
     "execution_count": 83,
     "metadata": {},
     "output_type": "execute_result"
    }
   ],
   "source": [
    "n=3\n",
    "beta0=np.random.rand(n+1)\n",
    "sol2=opt.minimize(objn,beta0,args=(x,y,n))\n",
    "sol2"
   ]
  },
  {
   "cell_type": "code",
   "execution_count": 84,
   "metadata": {},
   "outputs": [
    {
     "data": {
      "image/png": "[encoded data removed]",
      "text/plain": [
       "<Figure size 432x288 with 1 Axes>"
      ]
     },
     "metadata": {
      "needs_background": "light"
     },
     "output_type": "display_data"
    }
   ],
   "source": [
    "plt.plot(x+2014,y,'ob',ms=3)\n",
    "pol=np.dot(sol2.x,[x**i for i in range(n+1)])\n",
    "plt.plot(x+2014,pol,'r')\n",
    "plt.grid()"
   ]
  },
  {
   "cell_type": "code",
   "execution_count": 85,
   "metadata": {},
   "outputs": [
    {
     "data": {
      "text/plain": [
       "      fun: 0.8404346750362717\n",
       " hess_inv: array([[ 2.27239551e-01, -6.41154282e-02,  4.83488408e-03,\n",
       "        -1.06428267e-04],\n",
       "       [-6.41154282e-02,  2.61882137e-02, -2.28212599e-03,\n",
       "         5.43057023e-05],\n",
       "       [ 4.83488408e-03, -2.28212599e-03,  2.13850630e-04,\n",
       "        -5.32141301e-06],\n",
       "       [-1.06428267e-04,  5.43057023e-05, -5.32141301e-06,\n",
       "         1.36446488e-07]])\n",
       "      jac: array([-5.66244125e-07, -3.65078449e-07, -8.41915607e-07, -3.27080488e-06])\n",
       "  message: 'Optimization terminated successfully.'\n",
       "     nfev: 65\n",
       "      nit: 8\n",
       "     njev: 13\n",
       "   status: 0\n",
       "  success: True\n",
       "        x: array([9.56752288e+00, 8.46496125e-02, 3.20207230e-03, 3.04660146e-05])"
      ]
     },
     "execution_count": 85,
     "metadata": {},
     "output_type": "execute_result"
    }
   ],
   "source": [
    "n=3\n",
    "beta0=np.random.rand(n+1)\n",
    "sol3=opt.minimize(objn,beta0,args=(x,y,n))\n",
    "sol3"
   ]
  },
  {
   "cell_type": "code",
   "execution_count": 91,
   "metadata": {},
   "outputs": [
    {
     "data": {
      "text/plain": [
       "14.155781187366212"
      ]
     },
     "execution_count": 91,
     "metadata": {},
     "output_type": "execute_result"
    }
   ],
   "source": [
    "n=1\n",
    "x=2041-2014\n",
    "np.dot(sol1.x,[x**i for i in range(n+1)])"
   ]
  },
  {
   "cell_type": "markdown",
   "metadata": {},
   "source": [
    ">**2.2.-** Graficar el error cuadrático acumulado contra el número de términos. ¿Cuál es el polinomio que mejor se ajusta?"
   ]
  },
  {
   "cell_type": "code",
   "execution_count": 93,
   "metadata": {},
   "outputs": [
    {
     "data": {
      "text/plain": [
       "14.787035689939325"
      ]
     },
     "execution_count": 93,
     "metadata": {},
     "output_type": "execute_result"
    }
   ],
   "source": [
    "n=3\n",
    "x=2041-2014\n",
    "np.dot(sol3.x,[x**i for i in range(n+1)])"
   ]
  },
  {
   "cell_type": "code",
   "execution_count": 94,
   "metadata": {},
   "outputs": [
    {
     "data": {
      "image/png": "[encoded data removed]",
      "text/plain": [
       "<Figure size 432x288 with 1 Axes>"
      ]
     },
     "metadata": {
      "needs_background": "light"
     },
     "output_type": "display_data"
    }
   ],
   "source": [
    "plt.plot(1,sol1.fun,'^',label='Error 1')\n",
    "plt.plot(2,sol2.fun,'s',label='Error 2')\n",
    "plt.plot(3,sol3.fun,'*',label='Error 3')\n",
    "plt.legend(loc='best')\n",
    "plt.grid()"
   ]
  },
  {
   "cell_type": "code",
   "execution_count": 96,
   "metadata": {},
   "outputs": [],
   "source": [
    "x=df['year'].values-1988"
   ]
  },
  {
   "cell_type": "code",
   "execution_count": 99,
   "metadata": {},
   "outputs": [
    {
     "data": {
      "image/png": "[encoded data removed]",
      "text/plain": [
       "<Figure size 432x288 with 1 Axes>"
      ]
     },
     "metadata": {
      "needs_background": "light"
     },
     "output_type": "display_data"
    }
   ],
   "source": [
    "plt.plot(x+2014,y,'ob',ms=3) # Puntos para ajustar\n",
    "n=1\n",
    "pol1=np.dot(sol1.x,[x**i for i in range(n+1)]) # polinomio de grado 1\n",
    "\n",
    "n=3\n",
    "pol3=np.dot(sol3.x,[x**i for i in range(n+1)]) # polinomio de grado 3\n",
    "plt.plot(x+2014,pol1,label='Polinomio de grado 1')\n",
    "\n",
    "plt.plot(x+2014,pol3,label='Polinomio de grado 3')\n",
    "plt.legend(loc='best')\n",
    "plt.grid()"
   ]
  },
  {
   "cell_type": "markdown",
   "metadata": {},
   "source": [
    "<hr>   \n",
    "\n",
    "### Reactivo 3 (4 ptos) <a name=\"Problema3\"></a> \n"
   ]
  },
  {
   "cell_type": "markdown",
   "metadata": {},
   "source": [
    "Una ventana Normanda se construye juntando\n",
    "un semicírculo a la parte superior de una ventana rectangular ordinaria (vea la figura). \n",
    "\n",
    "<img style=\"float: center;;\" src='Figures/ventana.png' width=\"200\" height=\"100\"/></a>"
   ]
  },
  {
   "cell_type": "markdown",
   "metadata": {},
   "source": [
    ">**3.1.-** Encuentre las dimensiones de una ventana Normanda de área máxima $A(x)$, si el perímetro total es de 16 pies. (**Hint:** perimetro de una semi-circunferencia $\\pi r$).\n",
    "\n",
    ">Formule el problema y realice este punto usando fórmulas en $\\LaTeX$, en celdas Markdown."
   ]
  },
  {
   "cell_type": "markdown",
   "metadata": {},
   "source": [
    "El perímetro de la ventana. P es constante\n",
    "\n",
    "---> $$P = x + 2y + πx/2 = x(1 + π/2)+ 2y = x((2 + π)/2)+ 2y$$\n",
    "\n",
    "El  ́area de la ventana. Esta es la función que deseamos\n",
    "optimizar.\n",
    "\n",
    "---> $$A = xy +π( x/2)^2 = xy + (π/8) x^2$$\n",
    "\n",
    "Despejamos y de la restricción, esto es, de la fórmula del perímetro\n",
    "\n",
    "---> $$y = 1/2(P − ((2 + π)/2) x)= P/2 − ((2 + π)/4) x$$\n",
    "\n",
    "Sustituimos en la función  ́area y queda en función de una sola variable\n",
    "\n",
    "---> $$A = x( P/2 − ((2 + π)/4) x)+ (π/8) x^2 = (P/2) x − ((2 + π)/4) x2 + (π/8) x^2 = P/2 + ((−4 − 2π + π)/8) x^2 \n",
    "\n",
    "---> $$A=(P/2) x ((− 4 + π)/8) x^2$$\n",
    "\n",
    "---> $$A ′ = P/2 ((− 4 + π)/4) x$$\n",
    "\n",
    "---> $$A ′′ = ((− 4 + π)/4) < 0$$\n",
    "\n",
    "Segunda derivada siempre negativa \n",
    "\n",
    "---> $$A ′ = 0 ⇒ P/2 − ((4 + π)/4) x = 0 ⇒ x =(P/2)/((4 + π)/4)= 2P/(4 + π)$$\n",
    "\n",
    "Máximo absoluto\n",
    "\n",
    "---> $$y = P/2 − ((2 + π)/4)(2P/(4 + π)) = 1/2(P − ((2 + π)/(4 + π)) P)= 1/2( 2P/(4 + π))$$\n",
    "\n",
    "La mitad de x\n",
    "\n",
    "---> $$y = 16/4 + π$$\n"
   ]
  },
  {
   "cell_type": "code",
   "execution_count": null,
   "metadata": {},
   "outputs": [],
   "source": []
  },
  {
   "cell_type": "code",
   "execution_count": 33,
   "metadata": {},
   "outputs": [
    {
     "data": {
      "text/latex": [
       "$\\displaystyle x$"
      ],
      "text/plain": [
       "x"
      ]
     },
     "execution_count": 33,
     "metadata": {},
     "output_type": "execute_result"
    }
   ],
   "source": [
    "def A(x):\n",
    "    return 8*x-((4+np.pi)/8)*x**2\n",
    "sym.var('x',real=True)"
   ]
  },
  {
   "cell_type": "code",
   "execution_count": 34,
   "metadata": {},
   "outputs": [
    {
     "data": {
      "text/latex": [
       "$\\displaystyle - 0.892699081698724 x^{2} + 8 x$"
      ],
      "text/plain": [
       "-0.892699081698724*x**2 + 8*x"
      ]
     },
     "execution_count": 34,
     "metadata": {},
     "output_type": "execute_result"
    }
   ],
   "source": [
    "A(x)"
   ]
  },
  {
   "cell_type": "code",
   "execution_count": 43,
   "metadata": {},
   "outputs": [
    {
     "data": {
      "text/latex": [
       "$\\displaystyle 8 - 1.78539816339745 x$"
      ],
      "text/plain": [
       "8 - 1.78539816339745*x"
      ]
     },
     "execution_count": 43,
     "metadata": {},
     "output_type": "execute_result"
    }
   ],
   "source": [
    "dA = sym.diff(A(x),x)\n",
    "dA"
   ]
  },
  {
   "cell_type": "code",
   "execution_count": 45,
   "metadata": {},
   "outputs": [
    {
     "data": {
      "text/plain": [
       "[4.48079322809245]"
      ]
     },
     "execution_count": 45,
     "metadata": {},
     "output_type": "execute_result"
    }
   ],
   "source": [
    "p_criticos = sym.solve(dA,x)\n",
    "p_criticos"
   ]
  },
  {
   "cell_type": "code",
   "execution_count": 35,
   "metadata": {},
   "outputs": [
    {
     "data": {
      "text/plain": [
       "[4.48079322809245]"
      ]
     },
     "execution_count": 35,
     "metadata": {},
     "output_type": "execute_result"
    }
   ],
   "source": [
    "dA=sym.diff(A(x),x)\n",
    "c=sym.solve(dA,x)\n",
    "c"
   ]
  },
  {
   "cell_type": "code",
   "execution_count": 46,
   "metadata": {},
   "outputs": [
    {
     "data": {
      "text/latex": [
       "$\\displaystyle 4.48079322809245$"
      ],
      "text/plain": [
       "4.48079322809245"
      ]
     },
     "execution_count": 46,
     "metadata": {},
     "output_type": "execute_result"
    }
   ],
   "source": [
    "p_criticos[0]"
   ]
  },
  {
   "cell_type": "code",
   "execution_count": 48,
   "metadata": {},
   "outputs": [
    {
     "data": {
      "text/latex": [
       "$\\displaystyle -1.78539816339745$"
      ],
      "text/plain": [
       "-1.78539816339745"
      ]
     },
     "execution_count": 48,
     "metadata": {},
     "output_type": "execute_result"
    }
   ],
   "source": [
    "d2A=sym.diff(dA,x)\n",
    "d2A"
   ]
  },
  {
   "cell_type": "code",
   "execution_count": 62,
   "metadata": {},
   "outputs": [
    {
     "data": {
      "text/plain": [
       "array([ 0.        ,  0.20408163,  0.40816327,  0.6122449 ,  0.81632653,\n",
       "        1.02040816,  1.2244898 ,  1.42857143,  1.63265306,  1.83673469,\n",
       "        2.04081633,  2.24489796,  2.44897959,  2.65306122,  2.85714286,\n",
       "        3.06122449,  3.26530612,  3.46938776,  3.67346939,  3.87755102,\n",
       "        4.08163265,  4.28571429,  4.48979592,  4.69387755,  4.89795918,\n",
       "        5.10204082,  5.30612245,  5.51020408,  5.71428571,  5.91836735,\n",
       "        6.12244898,  6.32653061,  6.53061224,  6.73469388,  6.93877551,\n",
       "        7.14285714,  7.34693878,  7.55102041,  7.75510204,  7.95918367,\n",
       "        8.16326531,  8.36734694,  8.57142857,  8.7755102 ,  8.97959184,\n",
       "        9.18367347,  9.3877551 ,  9.59183673,  9.79591837, 10.        ])"
      ]
     },
     "execution_count": 62,
     "metadata": {},
     "output_type": "execute_result"
    }
   ],
   "source": [
    "x_num = np.linspace(0,10)\n",
    "x_num"
   ]
  },
  {
   "cell_type": "markdown",
   "metadata": {},
   "source": [
    ">**3.2.-** Usando `sympy` maximice la función $A(x)$ en su dominio."
   ]
  },
  {
   "cell_type": "code",
   "execution_count": 65,
   "metadata": {},
   "outputs": [
    {
     "data": {
      "image/png": "[encoded data removed]",
      "text/plain": [
       "<Figure size 360x360 with 1 Axes>"
      ]
     },
     "metadata": {
      "needs_background": "light"
     },
     "output_type": "display_data"
    }
   ],
   "source": [
    "plt.figure(figsize=(5,5))\n",
    "plt.plot(x_num,A(x_num), 'k', lw=2, \n",
    "         label = '$A(x)=8x((-4+\\pi)/8)x^2$')\n",
    "\n",
    "plt.plot(p_criticos[0], A(p_criticos[0]), 'ro', ms=10,\n",
    "        label = f'Máximo absoluto: $({p_criticos[0]},{A(p_criticos[0])})$')\n",
    "\n",
    "plt.xlabel('$x$')\n",
    "plt.ylabel('$y$')\n",
    "plt.legend(loc='best')\n",
    "plt.grid()"
   ]
  },
  {
   "cell_type": "code",
   "execution_count": null,
   "metadata": {},
   "outputs": [],
   "source": []
  }
 ],
 "metadata": {
  "kernelspec": {
   "display_name": "Python 3 (ipykernel)",
   "language": "python",
   "name": "python3"
  },
  "language_info": {
   "codemirror_mode": {
    "name": "ipython",
    "version": 3
   },
   "file_extension": ".py",
   "mimetype": "text/x-python",
   "name": "python",
   "nbconvert_exporter": "python",
   "pygments_lexer": "ipython3",
   "version": "3.9.7"
  }
 },
 "nbformat": 4,
 "nbformat_minor": 4
}
