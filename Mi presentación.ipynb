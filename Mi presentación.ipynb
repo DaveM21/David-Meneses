{
 "cells": [
  {
   "cell_type": "markdown",
   "id": "702c883a-3efc-4930-9cb3-d3fcddd12128",
   "metadata": {},
   "source": [
    "# Mi presentación \n",
    "\n",
    "Mi nombre es David Isaac Meneses Flores. Me encuentro estudiando en 7to semestre de la carrera de Ing. en nanotecnología. Me gusta leer, escribir, la música, los deportes y pasar tiempo con la familia; y espero disfrutar de esta materia lo mejor posible.\n",
    "\n",
    "## Artículo \"the economist\"\n",
    "\n",
    "### La propiedad de armas en Estados Unidos se está diversificando debido a los temores de seguridad \n",
    "\n",
    "![Image](https://www.economist.com/img/b/1280/720/90/sites/default/files/images/print-edition/20220122_USP002_0.jpg) \n",
    "\n",
    "IMAGEN UN PISTOLERO y Annette Evans probablemente no le venga a la mente. Sin embargo, posee más de una docena de rifles, pistolas y escopetas e imparte cursos de defensa personal a mujeres. «Puede haber pocas posibilidades de que me encuentre con alguien que me mate, pero sin un arma, moriré».\n",
    "\n",
    "Más propietarios de armas, especialmente los nuevos, se parecen a la Sra. La proporción de adultos negros que se unieron a las filas de propietarios de armas, 5,3%, fue más del doble que la de los adultos blancos. En general, los propietarios de armas de hoy siguen siendo en su mayoría blancos y hombres.\n",
    "\n",
    "La cultura de las armas ha ampliado su atractivo. Hace décadas, la mayoría de la gente compraba armas para la caza y el tiro recreativo. Ahora lo hacen principalmente en defensa propia, que es una preocupación universal. Los negros tienen una larga historia de posesión de armas: Harriet Tubman las portaba, Martin Luther King las tenía en casa. Pero esta tradición fue «encubierta» durante mucho tiempo, dice Aqil Qadir, un tirador de tercera generación que dirige un centro de entrenamiento de armas de fuego en Tennessee.\n",
    "\n",
    "Muchos de los nuevos propietarios de armas ven las armas de fuego como un ecualizador, un remedio para la vulnerabilidad que sienten. Pero Robyn Sandoval, jefa de A Girl and a Gun, un grupo de tiro, ve cada vez más mujeres comprando armas por iniciativa propia: un tercio de los nuevos miembros de su organización en 2021 dijeron que eran los únicos tiradores en su familia.\n",
    "La carpa cada vez mayor es buena para los fabricantes y mala para los defensores del control de armas.\n",
    "\n",
    "Recuperado de: https://www.economist.com/united-states/2022/01/22/gun-ownership-in-america-is-diversifying-because-of-safety-fears"
   ]
  },
  {
   "cell_type": "code",
   "execution_count": null,
   "id": "6864ca72-c0b4-4a4b-a4d8-fdcb8d554a43",
   "metadata": {},
   "outputs": [],
   "source": []
  }
 ],
 "metadata": {
  "kernelspec": {
   "display_name": "Python 3",
   "language": "python",
   "name": "python3"
  },
  "language_info": {
   "codemirror_mode": {
    "name": "ipython",
    "version": 3
   },
   "file_extension": ".py",
   "mimetype": "text/x-python",
   "name": "python",
   "nbconvert_exporter": "python",
   "pygments_lexer": "ipython3",
   "version": "3.7.8"
  }
 },
 "nbformat": 4,
 "nbformat_minor": 5
}
