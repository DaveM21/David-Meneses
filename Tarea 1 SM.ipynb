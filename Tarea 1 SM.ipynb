{
 "cells": [
  {
   "cell_type": "markdown",
   "metadata": {
    "colab_type": "text",
    "id": "PedPDtG9ESjJ"
   },
   "source": [
    "# Tarea. Optimización de funciones escalares"
   ]
  },
  {
   "cell_type": "markdown",
   "metadata": {
    "colab_type": "text",
    "id": "I1rmrSnYElMl"
   },
   "source": [
    "1. Encuntre el punto crítico de cada $f(x)$, grafique y diga si éste es máximo o mínimo:"
   ]
  },
  {
   "cell_type": "code",
   "execution_count": 1,
   "metadata": {
    "colab": {},
    "colab_type": "code",
    "id": "BnSeOKFZEIpZ"
   },
   "outputs": [],
   "source": [
    "import numpy as np\n",
    "import sympy as sym\n",
    "import matplotlib.pyplot as plt\n"
   ]
  },
  {
   "cell_type": "markdown",
   "metadata": {
    "colab_type": "text",
    "id": "rZsQPEsnE-b9"
   },
   "source": [
    "1.1 $f(x)=x+\\frac{1}{x^2}$"
   ]
  },
  {
   "cell_type": "code",
   "execution_count": 2,
   "metadata": {},
   "outputs": [
    {
     "data": {
      "text/latex": [
       "$\\displaystyle x$"
      ],
      "text/plain": [
       "x"
      ]
     },
     "execution_count": 2,
     "metadata": {},
     "output_type": "execute_result"
    }
   ],
   "source": [
    "sym.var(\"x\")"
   ]
  },
  {
   "cell_type": "code",
   "execution_count": 3,
   "metadata": {},
   "outputs": [],
   "source": [
    "def f(x):\n",
    "    return x+1/x**2"
   ]
  },
  {
   "cell_type": "code",
   "execution_count": 4,
   "metadata": {},
   "outputs": [
    {
     "data": {
      "text/latex": [
       "$\\displaystyle x + \\frac{1}{x^{2}}$"
      ],
      "text/plain": [
       "x + x**(-2)"
      ]
     },
     "execution_count": 4,
     "metadata": {},
     "output_type": "execute_result"
    }
   ],
   "source": [
    "f(x)"
   ]
  },
  {
   "cell_type": "code",
   "execution_count": 7,
   "metadata": {},
   "outputs": [
    {
     "data": {
      "text/latex": [
       "$\\displaystyle 1 - \\frac{2}{x^{3}}$"
      ],
      "text/plain": [
       "1 - 2/x**3"
      ]
     },
     "execution_count": 7,
     "metadata": {},
     "output_type": "execute_result"
    }
   ],
   "source": [
    "df=sym.diff(f(x),x)\n",
    "df"
   ]
  },
  {
   "cell_type": "code",
   "execution_count": 55,
   "metadata": {},
   "outputs": [
    {
     "data": {
      "text/latex": [
       "$\\displaystyle \\frac{6}{x^{4}}$"
      ],
      "text/plain": [
       "6/x**4"
      ]
     },
     "execution_count": 55,
     "metadata": {},
     "output_type": "execute_result"
    }
   ],
   "source": [
    "d2f=sym.diff(df,x)\n",
    "d2f"
   ]
  },
  {
   "cell_type": "code",
   "execution_count": 9,
   "metadata": {},
   "outputs": [
    {
     "data": {
      "text/plain": [
       "[2**(1/3),\n",
       " -2**(1/3)/2 - 2**(1/3)*sqrt(3)*I/2,\n",
       " -2**(1/3)/2 + 2**(1/3)*sqrt(3)*I/2]"
      ]
     },
     "execution_count": 9,
     "metadata": {},
     "output_type": "execute_result"
    }
   ],
   "source": [
    "p_criticos = sym.solve(df,x)\n",
    "p_criticos"
   ]
  },
  {
   "cell_type": "code",
   "execution_count": 147,
   "metadata": {},
   "outputs": [
    {
     "data": {
      "text/plain": [
       "2.9166666666666665"
      ]
     },
     "execution_count": 147,
     "metadata": {},
     "output_type": "execute_result"
    }
   ],
   "source": [
    "f(2**1/3)"
   ]
  },
  {
   "cell_type": "code",
   "execution_count": 12,
   "metadata": {},
   "outputs": [
    {
     "data": {
      "text/plain": [
       "array([-3.        , -2.87755102, -2.75510204, -2.63265306, -2.51020408,\n",
       "       -2.3877551 , -2.26530612, -2.14285714, -2.02040816, -1.89795918,\n",
       "       -1.7755102 , -1.65306122, -1.53061224, -1.40816327, -1.28571429,\n",
       "       -1.16326531, -1.04081633, -0.91836735, -0.79591837, -0.67346939,\n",
       "       -0.55102041, -0.42857143, -0.30612245, -0.18367347, -0.06122449,\n",
       "        0.06122449,  0.18367347,  0.30612245,  0.42857143,  0.55102041,\n",
       "        0.67346939,  0.79591837,  0.91836735,  1.04081633,  1.16326531,\n",
       "        1.28571429,  1.40816327,  1.53061224,  1.65306122,  1.7755102 ,\n",
       "        1.89795918,  2.02040816,  2.14285714,  2.26530612,  2.3877551 ,\n",
       "        2.51020408,  2.63265306,  2.75510204,  2.87755102,  3.        ])"
      ]
     },
     "execution_count": 12,
     "metadata": {},
     "output_type": "execute_result"
    }
   ],
   "source": [
    "x_num= np.linspace(-3,3)\n",
    "x_num"
   ]
  },
  {
   "cell_type": "code",
   "execution_count": 49,
   "metadata": {},
   "outputs": [
    {
     "data": {
      "image/png": "[encoded data removed]",
      "text/plain": [
       "<Figure size 360x360 with 1 Axes>"
      ]
     },
     "metadata": {
      "needs_background": "light"
     },
     "output_type": "display_data"
    }
   ],
   "source": [
    "plt.figure(figsize=(5,5))\n",
    "plt.plot(x_num,f(x_num), 'k', lw=2, \n",
    "         label = '$f(x)=x+1/x^2$')\n",
    "plt.plot(0, f(270), 'go', ms=10,\n",
    "        label = f'Máximo absoluto:   $({-1},{f(-1)})$')\n",
    "plt.plot(p_criticos[0], f(p_criticos[0]), 'ro', ms=10,\n",
    "        label = f'Mínimo absoluto: $({p_criticos[0]},{f(p_criticos[0])})$')\n",
    "\n",
    "plt.xlabel('$x$')\n",
    "plt.ylabel('$y$')\n",
    "plt.legend(loc='best')\n",
    "plt.grid()"
   ]
  },
  {
   "cell_type": "code",
   "execution_count": null,
   "metadata": {},
   "outputs": [],
   "source": [
    "-----------------------------------------------------------------------------------------------------------------------"
   ]
  },
  {
   "cell_type": "markdown",
   "metadata": {
    "colab_type": "text",
    "id": "WSf2O-FsGYtu"
   },
   "source": [
    "1.2 $f(x)=\\frac{15x}{2}\\sqrt{\\frac{x}{x-30}}$"
   ]
  },
  {
   "cell_type": "code",
   "execution_count": 52,
   "metadata": {},
   "outputs": [],
   "source": [
    "def g(x):\n",
    "    return 15*x/2*sym.sqrt(x/(x-30))"
   ]
  },
  {
   "cell_type": "code",
   "execution_count": 53,
   "metadata": {},
   "outputs": [
    {
     "data": {
      "text/latex": [
       "$\\displaystyle \\frac{15 x \\sqrt{\\frac{x}{x - 30}}}{2}$"
      ],
      "text/plain": [
       "15*x*sqrt(x/(x - 30))/2"
      ]
     },
     "execution_count": 53,
     "metadata": {},
     "output_type": "execute_result"
    }
   ],
   "source": [
    "g(x)"
   ]
  },
  {
   "cell_type": "code",
   "execution_count": 54,
   "metadata": {},
   "outputs": [
    {
     "data": {
      "text/latex": [
       "$\\displaystyle \\frac{15 \\sqrt{\\frac{x}{x - 30}} \\left(x - 30\\right) \\left(- \\frac{x}{2 \\left(x - 30\\right)^{2}} + \\frac{1}{2 \\left(x - 30\\right)}\\right)}{2} + \\frac{15 \\sqrt{\\frac{x}{x - 30}}}{2}$"
      ],
      "text/plain": [
       "15*sqrt(x/(x - 30))*(x - 30)*(-x/(2*(x - 30)**2) + 1/(2*(x - 30)))/2 + 15*sqrt(x/(x - 30))/2"
      ]
     },
     "execution_count": 54,
     "metadata": {},
     "output_type": "execute_result"
    }
   ],
   "source": [
    "dg=sym.diff(g(x),x)\n",
    "dg"
   ]
  },
  {
   "cell_type": "code",
   "execution_count": 58,
   "metadata": {},
   "outputs": [
    {
     "data": {
      "text/latex": [
       "$\\displaystyle \\frac{15 \\sqrt{\\frac{x}{x - 30}} \\left(x - 30\\right) \\left(\\frac{x}{\\left(x - 30\\right)^{3}} - \\frac{1}{\\left(x - 30\\right)^{2}}\\right)}{2} + \\frac{15 \\sqrt{\\frac{x}{x - 30}} \\left(- \\frac{x}{2 \\left(x - 30\\right)^{2}} + \\frac{1}{2 \\left(x - 30\\right)}\\right)}{2} + \\frac{15 \\sqrt{\\frac{x}{x - 30}} \\left(x - 30\\right)^{2} \\left(- \\frac{x}{2 \\left(x - 30\\right)^{2}} + \\frac{1}{2 \\left(x - 30\\right)}\\right)^{2}}{2 x} + \\frac{15 \\sqrt{\\frac{x}{x - 30}} \\left(x - 30\\right) \\left(- \\frac{x}{2 \\left(x - 30\\right)^{2}} + \\frac{1}{2 \\left(x - 30\\right)}\\right)}{2 x}$"
      ],
      "text/plain": [
       "15*sqrt(x/(x - 30))*(x - 30)*(x/(x - 30)**3 - 1/(x - 30)**2)/2 + 15*sqrt(x/(x - 30))*(-x/(2*(x - 30)**2) + 1/(2*(x - 30)))/2 + 15*sqrt(x/(x - 30))*(x - 30)**2*(-x/(2*(x - 30)**2) + 1/(2*(x - 30)))**2/(2*x) + 15*sqrt(x/(x - 30))*(x - 30)*(-x/(2*(x - 30)**2) + 1/(2*(x - 30)))/(2*x)"
      ]
     },
     "execution_count": 58,
     "metadata": {},
     "output_type": "execute_result"
    }
   ],
   "source": [
    "d2g=sym.diff(dg,x)\n",
    "d2g"
   ]
  },
  {
   "cell_type": "code",
   "execution_count": 152,
   "metadata": {},
   "outputs": [
    {
     "data": {
      "text/plain": [
       "[0, 45]"
      ]
     },
     "execution_count": 152,
     "metadata": {},
     "output_type": "execute_result"
    }
   ],
   "source": [
    "p_criticos = sym.solve(dg,x)\n",
    "p_criticos"
   ]
  },
  {
   "cell_type": "code",
   "execution_count": 153,
   "metadata": {},
   "outputs": [
    {
     "data": {
      "text/latex": [
       "$\\displaystyle 0$"
      ],
      "text/plain": [
       "0"
      ]
     },
     "execution_count": 153,
     "metadata": {},
     "output_type": "execute_result"
    }
   ],
   "source": [
    "g(0)"
   ]
  },
  {
   "cell_type": "code",
   "execution_count": 154,
   "metadata": {},
   "outputs": [
    {
     "data": {
      "text/latex": [
       "$\\displaystyle 584.567147554496$"
      ],
      "text/plain": [
       "584.567147554496"
      ]
     },
     "execution_count": 154,
     "metadata": {},
     "output_type": "execute_result"
    }
   ],
   "source": [
    "g(45)"
   ]
  },
  {
   "cell_type": "code",
   "execution_count": 67,
   "metadata": {},
   "outputs": [
    {
     "data": {
      "text/plain": [
       "array([-50.        , -47.95918367, -45.91836735, -43.87755102,\n",
       "       -41.83673469, -39.79591837, -37.75510204, -35.71428571,\n",
       "       -33.67346939, -31.63265306, -29.59183673, -27.55102041,\n",
       "       -25.51020408, -23.46938776, -21.42857143, -19.3877551 ,\n",
       "       -17.34693878, -15.30612245, -13.26530612, -11.2244898 ,\n",
       "        -9.18367347,  -7.14285714,  -5.10204082,  -3.06122449,\n",
       "        -1.02040816,   1.02040816,   3.06122449,   5.10204082,\n",
       "         7.14285714,   9.18367347,  11.2244898 ,  13.26530612,\n",
       "        15.30612245,  17.34693878,  19.3877551 ,  21.42857143,\n",
       "        23.46938776,  25.51020408,  27.55102041,  29.59183673,\n",
       "        31.63265306,  33.67346939,  35.71428571,  37.75510204,\n",
       "        39.79591837,  41.83673469,  43.87755102,  45.91836735,\n",
       "        47.95918367,  50.        ])"
      ]
     },
     "execution_count": 67,
     "metadata": {},
     "output_type": "execute_result"
    }
   ],
   "source": [
    "x_num= np.linspace(-50,50)\n",
    "x_num"
   ]
  },
  {
   "cell_type": "code",
   "execution_count": null,
   "metadata": {},
   "outputs": [],
   "source": [
    "plt.figure(figsize=(5,5))\n",
    "plt.plot(x_num,g(x_num), 'k', lw=2, \n",
    "         label = '$g(x)=15x/2(sqrt(x/x-30))$')\n",
    "plt.plot(0, g(45), 'go', ms=10,\n",
    "        label = f'Máximo absoluto:   $({0},{g(45)})$')\n",
    "plt.plot(p_criticos[0], g(p_criticos[0]), 'ro', ms=10,\n",
    "        label = f'Mínimo absoluto: $({p_criticos[0]},{g(p_criticos[0])})$')\n",
    "\n",
    "plt.xlabel('$x$')\n",
    "plt.ylabel('$y$')\n",
    "plt.legend(loc='best')\n",
    "plt.grid()"
   ]
  },
  {
   "cell_type": "code",
   "execution_count": null,
   "metadata": {},
   "outputs": [],
   "source": [
    "-----------------------------------------------------------------------------------------------------------------------"
   ]
  },
  {
   "cell_type": "markdown",
   "metadata": {
    "colab_type": "text",
    "id": "7A2O6L5gGx-q"
   },
   "source": [
    "1.3 $f(x)=100(1+\\cos(x)\\sin(x))$, para $x\\in[0.\\frac{\\pi}{2}]$"
   ]
  },
  {
   "cell_type": "code",
   "execution_count": 74,
   "metadata": {},
   "outputs": [],
   "source": [
    "def h(x):\n",
    "    return 100*(1+sym.cos(x)*sym.sin(x))"
   ]
  },
  {
   "cell_type": "code",
   "execution_count": 75,
   "metadata": {},
   "outputs": [
    {
     "data": {
      "text/latex": [
       "$\\displaystyle 100 \\sin{\\left(x \\right)} \\cos{\\left(x \\right)} + 100$"
      ],
      "text/plain": [
       "100*sin(x)*cos(x) + 100"
      ]
     },
     "execution_count": 75,
     "metadata": {},
     "output_type": "execute_result"
    }
   ],
   "source": [
    "h(x)"
   ]
  },
  {
   "cell_type": "code",
   "execution_count": 76,
   "metadata": {},
   "outputs": [
    {
     "data": {
      "text/latex": [
       "$\\displaystyle - 100 \\sin^{2}{\\left(x \\right)} + 100 \\cos^{2}{\\left(x \\right)}$"
      ],
      "text/plain": [
       "-100*sin(x)**2 + 100*cos(x)**2"
      ]
     },
     "execution_count": 76,
     "metadata": {},
     "output_type": "execute_result"
    }
   ],
   "source": [
    "dh=sym.diff(h(x),x)\n",
    "dh"
   ]
  },
  {
   "cell_type": "code",
   "execution_count": 77,
   "metadata": {},
   "outputs": [
    {
     "data": {
      "text/latex": [
       "$\\displaystyle - 400 \\sin{\\left(x \\right)} \\cos{\\left(x \\right)}$"
      ],
      "text/plain": [
       "-400*sin(x)*cos(x)"
      ]
     },
     "execution_count": 77,
     "metadata": {},
     "output_type": "execute_result"
    }
   ],
   "source": [
    "d2h=sym.diff(dh,x)\n",
    "d2h"
   ]
  },
  {
   "cell_type": "code",
   "execution_count": 78,
   "metadata": {},
   "outputs": [
    {
     "data": {
      "text/plain": [
       "[-pi/4, pi/4]"
      ]
     },
     "execution_count": 78,
     "metadata": {},
     "output_type": "execute_result"
    }
   ],
   "source": [
    "p_criticos = sym.solve(dh,x)\n",
    "p_criticos"
   ]
  },
  {
   "cell_type": "code",
   "execution_count": 156,
   "metadata": {},
   "outputs": [
    {
     "data": {
      "text/latex": [
       "$\\displaystyle 50$"
      ],
      "text/plain": [
       "50"
      ]
     },
     "execution_count": 156,
     "metadata": {},
     "output_type": "execute_result"
    }
   ],
   "source": [
    "h(-sym.pi/4)"
   ]
  },
  {
   "cell_type": "code",
   "execution_count": 157,
   "metadata": {},
   "outputs": [
    {
     "data": {
      "text/latex": [
       "$\\displaystyle 150$"
      ],
      "text/plain": [
       "150"
      ]
     },
     "execution_count": 157,
     "metadata": {},
     "output_type": "execute_result"
    }
   ],
   "source": [
    "h(sym.pi/4)"
   ]
  },
  {
   "cell_type": "code",
   "execution_count": 79,
   "metadata": {},
   "outputs": [
    {
     "data": {
      "text/plain": [
       "array([-50.        , -47.95918367, -45.91836735, -43.87755102,\n",
       "       -41.83673469, -39.79591837, -37.75510204, -35.71428571,\n",
       "       -33.67346939, -31.63265306, -29.59183673, -27.55102041,\n",
       "       -25.51020408, -23.46938776, -21.42857143, -19.3877551 ,\n",
       "       -17.34693878, -15.30612245, -13.26530612, -11.2244898 ,\n",
       "        -9.18367347,  -7.14285714,  -5.10204082,  -3.06122449,\n",
       "        -1.02040816,   1.02040816,   3.06122449,   5.10204082,\n",
       "         7.14285714,   9.18367347,  11.2244898 ,  13.26530612,\n",
       "        15.30612245,  17.34693878,  19.3877551 ,  21.42857143,\n",
       "        23.46938776,  25.51020408,  27.55102041,  29.59183673,\n",
       "        31.63265306,  33.67346939,  35.71428571,  37.75510204,\n",
       "        39.79591837,  41.83673469,  43.87755102,  45.91836735,\n",
       "        47.95918367,  50.        ])"
      ]
     },
     "execution_count": 79,
     "metadata": {},
     "output_type": "execute_result"
    }
   ],
   "source": [
    "x_num= np.linspace(-50,50)\n",
    "x_num"
   ]
  },
  {
   "cell_type": "code",
   "execution_count": null,
   "metadata": {},
   "outputs": [],
   "source": [
    "plt.figure(figsize=(5,5))\n",
    "plt.plot(x_num,h(x_num), 'k', lw=2, \n",
    "         label = '$h(x)=100sin(x)cos(x)+100$')\n",
    "plt.plot(sym.pi/2, h(sym.pi/2), 'go', ms=10,\n",
    "        label = f'Máximo absoluto:   $({sym.pi/2},{h(pi/2)})$')\n",
    "plt.plot(p_criticos[0], h(p_criticos[0]), 'ro', ms=10,\n",
    "        label = f'Mínimo absoluto: $({p_criticos[0]},{h(p_criticos[0])})$')\n",
    "\n",
    "plt.xlabel('$x$')\n",
    "plt.ylabel('$y$')\n",
    "plt.legend(loc='best')\n"
   ]
  },
  {
   "cell_type": "code",
   "execution_count": null,
   "metadata": {},
   "outputs": [],
   "source": [
    "-----------------------------------------------------------------------------------------------------------------------"
   ]
  },
  {
   "cell_type": "markdown",
   "metadata": {
    "colab_type": "text",
    "id": "mibUuJQGHSUO"
   },
   "source": [
    "2. Resuelva los siguientes problemas:"
   ]
  },
  {
   "cell_type": "markdown",
   "metadata": {
    "colab_type": "text",
    "id": "uxDIyBC6HYFx"
   },
   "source": [
    "2.1  Se desea hacer una caja con tapa cuyo volumen sea de 72 $cm^3$. Además, lo largo de la base debe ser el doble de lo ancho. ¿Cuáles deben ser las dimensiones de modo que la superficie de la caja sea mínima? y, ¿cuál la superficie mínima?\n"
   ]
  },
  {
   "cell_type": "code",
   "execution_count": 84,
   "metadata": {
    "colab": {},
    "colab_type": "code",
    "id": "7Lvny-LWHXcx"
   },
   "outputs": [],
   "source": [
    "# Determinamos la superficie de la caja\n",
    "# y = 2x\n",
    "# 72 = x*y*z = x(2x)z\n",
    "# z = 72/2x^2\n",
    "\n",
    "def s(x):\n",
    "    return 4*(x**2+54/x)"
   ]
  },
  {
   "cell_type": "code",
   "execution_count": 85,
   "metadata": {},
   "outputs": [
    {
     "data": {
      "text/latex": [
       "$\\displaystyle 4 x^{2} + \\frac{216}{x}$"
      ],
      "text/plain": [
       "4*x**2 + 216/x"
      ]
     },
     "execution_count": 85,
     "metadata": {},
     "output_type": "execute_result"
    }
   ],
   "source": [
    "s(x)"
   ]
  },
  {
   "cell_type": "code",
   "execution_count": 86,
   "metadata": {},
   "outputs": [
    {
     "data": {
      "text/latex": [
       "$\\displaystyle 8 x - \\frac{216}{x^{2}}$"
      ],
      "text/plain": [
       "8*x - 216/x**2"
      ]
     },
     "execution_count": 86,
     "metadata": {},
     "output_type": "execute_result"
    }
   ],
   "source": [
    "ds=sym.diff(s(x),x)\n",
    "ds"
   ]
  },
  {
   "cell_type": "code",
   "execution_count": 87,
   "metadata": {},
   "outputs": [
    {
     "data": {
      "text/latex": [
       "$\\displaystyle 8 + \\frac{432}{x^{3}}$"
      ],
      "text/plain": [
       "8 + 432/x**3"
      ]
     },
     "execution_count": 87,
     "metadata": {},
     "output_type": "execute_result"
    }
   ],
   "source": [
    "d2s=sym.diff(ds,x)\n",
    "d2s"
   ]
  },
  {
   "cell_type": "code",
   "execution_count": 88,
   "metadata": {},
   "outputs": [
    {
     "data": {
      "text/plain": [
       "[3, -3/2 - 3*sqrt(3)*I/2, -3/2 + 3*sqrt(3)*I/2]"
      ]
     },
     "execution_count": 88,
     "metadata": {},
     "output_type": "execute_result"
    }
   ],
   "source": [
    "p_criticos = sym.solve(ds,x)\n",
    "p_criticos"
   ]
  },
  {
   "cell_type": "code",
   "execution_count": 129,
   "metadata": {},
   "outputs": [
    {
     "data": {
      "text/plain": [
       "108.0"
      ]
     },
     "execution_count": 129,
     "metadata": {},
     "output_type": "execute_result"
    }
   ],
   "source": [
    "s(3)"
   ]
  },
  {
   "cell_type": "code",
   "execution_count": null,
   "metadata": {},
   "outputs": [],
   "source": [
    "# x = 3 (mínimo global)    y = 6\n",
    "\n",
    "# Por lo tanto, la superficie mínima será \n",
    "    \n",
    "    # 2(xz+xz+yz) =>  2(3.6+3.4+4.6) = 108cm^2"
   ]
  },
  {
   "cell_type": "markdown",
   "metadata": {
    "colab_type": "text",
    "id": "AhKGcooYopud"
   },
   "source": [
    "2.2 Una bodega de 5 $m$ de largo, 4 $m$ de ancho y 3 $m$ de alto, tiene un contacto en una esquina a 80 $cm$ de alto. Si se requiere colocar un foco en el techo justo en la esquina opuesta, ¿cuál es la distancia sobre las paredes de la bodega que se debe seguir para ahorrar cable eléctrico?\n",
    "\n",
    "Pista: Encuentre el punto P en la imágen.\n",
    "\n",
    "![](./Tarea_OptEsc_2.2.PNG)\n"
   ]
  },
  {
   "cell_type": "code",
   "execution_count": 116,
   "metadata": {},
   "outputs": [],
   "source": [
    "# b = b1 + b2\n",
    "# Usando el problema de pitágoras\n",
    "\n",
    "\n",
    "def b1(x):\n",
    "    return sym.sqrt(5**2+x**2)\n",
    "\n",
    "def b2(x):\n",
    "    return sym.sqrt(4**2+(3-(0.8+x))**2)\n",
    "\n",
    "def bt(x):\n",
    "    return sym.sqrt(5**2+x**2)+sym.sqrt(4**2+(3-(0.8+x))**2)"
   ]
  },
  {
   "cell_type": "code",
   "execution_count": 118,
   "metadata": {},
   "outputs": [
    {
     "data": {
      "text/latex": [
       "$\\displaystyle \\sqrt{x^{2} + 25}$"
      ],
      "text/plain": [
       "sqrt(x**2 + 25)"
      ]
     },
     "execution_count": 118,
     "metadata": {},
     "output_type": "execute_result"
    }
   ],
   "source": [
    "b1(x)"
   ]
  },
  {
   "cell_type": "code",
   "execution_count": 119,
   "metadata": {},
   "outputs": [
    {
     "data": {
      "text/latex": [
       "$\\displaystyle 4 \\sqrt{0.3025 \\left(1 - 0.454545454545455 x\\right)^{2} + 1}$"
      ],
      "text/plain": [
       "4*sqrt(0.3025*(1 - 0.454545454545455*x)**2 + 1)"
      ]
     },
     "execution_count": 119,
     "metadata": {},
     "output_type": "execute_result"
    }
   ],
   "source": [
    "b2(x)"
   ]
  },
  {
   "cell_type": "code",
   "execution_count": 117,
   "metadata": {},
   "outputs": [
    {
     "data": {
      "text/latex": [
       "$\\displaystyle \\sqrt{x^{2} + 25} + 4 \\sqrt{0.3025 \\left(1 - 0.454545454545455 x\\right)^{2} + 1}$"
      ],
      "text/plain": [
       "sqrt(x**2 + 25) + 4*sqrt(0.3025*(1 - 0.454545454545455*x)**2 + 1)"
      ]
     },
     "execution_count": 117,
     "metadata": {},
     "output_type": "execute_result"
    }
   ],
   "source": [
    "bt(x)"
   ]
  },
  {
   "cell_type": "code",
   "execution_count": 121,
   "metadata": {},
   "outputs": [
    {
     "data": {
      "text/latex": [
       "$\\displaystyle \\frac{x}{\\sqrt{x^{2} + 25}} + \\frac{4 \\left(0.0625 x - 0.1375\\right)}{\\sqrt{0.3025 \\left(1 - 0.454545454545455 x\\right)^{2} + 1}}$"
      ],
      "text/plain": [
       "x/sqrt(x**2 + 25) + 4*(0.0625*x - 0.1375)/sqrt(0.3025*(1 - 0.454545454545455*x)**2 + 1)"
      ]
     },
     "execution_count": 121,
     "metadata": {},
     "output_type": "execute_result"
    }
   ],
   "source": [
    "db=sym.diff(bt(x),x)\n",
    "db"
   ]
  },
  {
   "cell_type": "code",
   "execution_count": 125,
   "metadata": {},
   "outputs": [
    {
     "data": {
      "text/latex": [
       "$\\displaystyle - \\frac{x^{2}}{\\left(x^{2} + 25\\right)^{\\frac{3}{2}}} + \\frac{4 \\left(0.1375 - 0.0625 x\\right) \\left(0.0625 x - 0.1375\\right)}{\\left(0.3025 \\left(1 - 0.454545454545455 x\\right)^{2} + 1\\right)^{\\frac{3}{2}}} + \\frac{0.25}{\\sqrt{0.3025 \\left(1 - 0.454545454545455 x\\right)^{2} + 1}} + \\frac{1}{\\sqrt{x^{2} + 25}}$"
      ],
      "text/plain": [
       "-x**2/(x**2 + 25)**(3/2) + 4*(0.1375 - 0.0625*x)*(0.0625*x - 0.1375)/(0.3025*(1 - 0.454545454545455*x)**2 + 1)**(3/2) + 0.25/sqrt(0.3025*(1 - 0.454545454545455*x)**2 + 1) + 1/sqrt(x**2 + 25)"
      ]
     },
     "execution_count": 125,
     "metadata": {},
     "output_type": "execute_result"
    }
   ],
   "source": [
    "d2b=sym.diff(db,x)\n",
    "d2b"
   ]
  },
  {
   "cell_type": "code",
   "execution_count": 126,
   "metadata": {},
   "outputs": [
    {
     "data": {
      "text/plain": [
       "[1.22222222222222]"
      ]
     },
     "execution_count": 126,
     "metadata": {},
     "output_type": "execute_result"
    }
   ],
   "source": [
    "p_criticos = sym.solve(db,x)\n",
    "p_criticos"
   ]
  },
  {
   "cell_type": "code",
   "execution_count": 132,
   "metadata": {},
   "outputs": [
    {
     "data": {
      "text/latex": [
       "$\\displaystyle 9.56508488420533$"
      ],
      "text/plain": [
       "9.56508488420533"
      ]
     },
     "execution_count": 132,
     "metadata": {},
     "output_type": "execute_result"
    }
   ],
   "source": [
    "bt(0)"
   ]
  },
  {
   "cell_type": "code",
   "execution_count": 134,
   "metadata": {},
   "outputs": [
    {
     "data": {
      "text/latex": [
       "$\\displaystyle 9.46260011349906$"
      ],
      "text/plain": [
       "9.46260011349906"
      ]
     },
     "execution_count": 134,
     "metadata": {},
     "output_type": "execute_result"
    }
   ],
   "source": [
    "bt(2.2)"
   ]
  },
  {
   "cell_type": "code",
   "execution_count": 135,
   "metadata": {},
   "outputs": [
    {
     "data": {
      "text/latex": [
       "$\\displaystyle 9.26498785752037$"
      ],
      "text/plain": [
       "9.26498785752037"
      ]
     },
     "execution_count": 135,
     "metadata": {},
     "output_type": "execute_result"
    }
   ],
   "source": [
    "bt(11/9)"
   ]
  },
  {
   "cell_type": "code",
   "execution_count": null,
   "metadata": {},
   "outputs": [],
   "source": [
    "# Implica que d(1.222) <= min {d(0),d(2.2)}"
   ]
  },
  {
   "cell_type": "markdown",
   "metadata": {
    "colab_type": "text",
    "id": "OIowvQqGpG7a"
   },
   "source": [
    "2.3 Un barco encalló a $9 km$ del punto **P** más próximo de una costa en línea recta. Se necesita enviar a un mensajero a un pueblo situado en la orilla de la costa a 15 km de **P**. Teniendo en cuenta que el mensajero recorre a pie $5 km/h$, y en una barca a $4 km/h$, decir en qué punto de la orilla debe desembarcar para llegar al pueblo lo más pronto posible?\n",
    "\n",
    "![](./Tarea_OptEsc_2.3.PNG)"
   ]
  },
  {
   "cell_type": "code",
   "execution_count": 136,
   "metadata": {},
   "outputs": [],
   "source": [
    "# T = x/5 + y/4\n",
    "# y^2 = 9^2 + (15-x)^2\n",
    "\n",
    "def t(x):\n",
    "    return x/5+sym.sqrt(9**2+(15-x)**2)/4"
   ]
  },
  {
   "cell_type": "code",
   "execution_count": 137,
   "metadata": {},
   "outputs": [
    {
     "data": {
      "text/latex": [
       "$\\displaystyle \\frac{x}{5} + \\frac{\\sqrt{\\left(15 - x\\right)^{2} + 81}}{4}$"
      ],
      "text/plain": [
       "x/5 + sqrt((15 - x)**2 + 81)/4"
      ]
     },
     "execution_count": 137,
     "metadata": {},
     "output_type": "execute_result"
    }
   ],
   "source": [
    "t(x)"
   ]
  },
  {
   "cell_type": "code",
   "execution_count": 138,
   "metadata": {},
   "outputs": [
    {
     "data": {
      "text/latex": [
       "$\\displaystyle \\frac{x - 15}{4 \\sqrt{\\left(15 - x\\right)^{2} + 81}} + \\frac{1}{5}$"
      ],
      "text/plain": [
       "(x - 15)/(4*sqrt((15 - x)**2 + 81)) + 1/5"
      ]
     },
     "execution_count": 138,
     "metadata": {},
     "output_type": "execute_result"
    }
   ],
   "source": [
    "dt=sym.diff(t(x),x)\n",
    "dt"
   ]
  },
  {
   "cell_type": "code",
   "execution_count": 139,
   "metadata": {},
   "outputs": [
    {
     "data": {
      "text/latex": [
       "$\\displaystyle \\frac{\\left(15 - x\\right) \\left(x - 15\\right)}{4 \\left(\\left(15 - x\\right)^{2} + 81\\right)^{\\frac{3}{2}}} + \\frac{1}{4 \\sqrt{\\left(15 - x\\right)^{2} + 81}}$"
      ],
      "text/plain": [
       "(15 - x)*(x - 15)/(4*((15 - x)**2 + 81)**(3/2)) + 1/(4*sqrt((15 - x)**2 + 81))"
      ]
     },
     "execution_count": 139,
     "metadata": {},
     "output_type": "execute_result"
    }
   ],
   "source": [
    "d2t=sym.diff(dt,x)\n",
    "d2t"
   ]
  },
  {
   "cell_type": "code",
   "execution_count": 146,
   "metadata": {},
   "outputs": [
    {
     "data": {
      "text/plain": [
       "[3]"
      ]
     },
     "execution_count": 146,
     "metadata": {},
     "output_type": "execute_result"
    }
   ],
   "source": [
    "p_criticos = sym.solve(dt,x)\n",
    "p_criticos"
   ]
  },
  {
   "cell_type": "code",
   "execution_count": 140,
   "metadata": {},
   "outputs": [
    {
     "data": {
      "text/latex": [
       "$\\displaystyle \\frac{3 \\sqrt{34}}{4}$"
      ],
      "text/plain": [
       "3*sqrt(34)/4"
      ]
     },
     "execution_count": 140,
     "metadata": {},
     "output_type": "execute_result"
    }
   ],
   "source": [
    "t(0)"
   ]
  },
  {
   "cell_type": "code",
   "execution_count": 142,
   "metadata": {},
   "outputs": [
    {
     "data": {
      "text/latex": [
       "$\\displaystyle 5.25$"
      ],
      "text/plain": [
       "5.25000000000000"
      ]
     },
     "execution_count": 142,
     "metadata": {},
     "output_type": "execute_result"
    }
   ],
   "source": [
    "t(15)"
   ]
  },
  {
   "cell_type": "code",
   "execution_count": 143,
   "metadata": {},
   "outputs": [
    {
     "data": {
      "text/latex": [
       "$\\displaystyle 4.35$"
      ],
      "text/plain": [
       "4.35000000000000"
      ]
     },
     "execution_count": 143,
     "metadata": {},
     "output_type": "execute_result"
    }
   ],
   "source": [
    "t(3)"
   ]
  },
  {
   "cell_type": "code",
   "execution_count": null,
   "metadata": {},
   "outputs": [],
   "source": [
    "# Implica que T(3) <= min {T(0),T(15)}"
   ]
  }
 ],
 "metadata": {
  "colab": {
   "collapsed_sections": [],
   "name": "Tarea - OptEsc.ipynb",
   "provenance": []
  },
  "kernelspec": {
   "display_name": "Python 3 (ipykernel)",
   "language": "python",
   "name": "python3"
  },
  "language_info": {
   "codemirror_mode": {
    "name": "ipython",
    "version": 3
   },
   "file_extension": ".py",
   "mimetype": "text/x-python",
   "name": "python",
   "nbconvert_exporter": "python",
   "pygments_lexer": "ipython3",
   "version": "3.9.7"
  }
 },
 "nbformat": 4,
 "nbformat_minor": 1
}
