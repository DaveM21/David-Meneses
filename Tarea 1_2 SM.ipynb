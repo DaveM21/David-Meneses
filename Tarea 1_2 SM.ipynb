{
 "cells": [
  {
   "cell_type": "markdown",
   "metadata": {},
   "source": [
    "# Tarea - Programación lineal"
   ]
  },
  {
   "cell_type": "code",
   "execution_count": 1,
   "metadata": {},
   "outputs": [],
   "source": [
    "import matplotlib.pyplot as plt\n",
    "%matplotlib inline\n",
    "import numpy as np\n",
    "from scipy import optimize as opt\n"
   ]
  },
  {
   "cell_type": "markdown",
   "metadata": {},
   "source": [
    "### Diseño de la Dieta Óptima\n",
    "\n",
    "Se quiere producir comida para gatos de la manera más barata, no obstante se debe también asegurar que se cumplan los datos requeridos de analisis nutricional. Por lo que se quiere variar la cantidad de cada ingrediente para cumplir con los estandares nutricionales. Los requisitos que se tienen es que en $100$ gramos, se deben tener **por lo menos** $8$ gramos de proteína y $6$ gramos de grasa. Así mismo, no se debe tener más de $2$ gramos de fibra y $0.4$ gramos de sal.  \n",
    "\n",
    "Los datos nutricionales se pueden obtener de la siguiente tabla:\n",
    "\n",
    "Ingrediente|Proteína|Grasa|Fibra|Sal\n",
    ":----|----|----|----|----\n",
    "Pollo|  10.0%|08.0%|00.1%|00.2%\n",
    "Carne|  20.0%|10.0%|00.5%|00.5%\n",
    "Cordero|15.0%|11.0%|00.5%|00.7%\n",
    "Arroz|  00.0%|01.0%|10.0%|00.2%\n",
    "Trigo|  04.0%|01.0%|15.0%|00.8%\n",
    "Gel|    00.0%|00.0%|00.0%|00.0%\n",
    "\n",
    "Los costos de cada producto son:\n",
    "\n",
    "Ingrediente|Costo por gramo\n",
    ":----|----\n",
    "Pollo|$\\$$0.013\n",
    "Carne|$\\$$0.008\n",
    "Cordero|$\\$$0.010\n",
    "Arroz|$\\$$0.002\n",
    "Trigo|$\\$$0.005\n",
    "Gel|$\\$$0.001    \n",
    "\n",
    "Lo que se busca optimizar en este caso es la cantidad de productos que se debe utilizar en la comida de gato, minimizando el costo total. Para simplificar la notación use las siguientes variables: \n",
    "\n",
    "+ $x_1:$ Gramos de pollo  \n",
    "+ $x_2:$ Gramos de carne  \n",
    "+ $x_3:$ Gramos de cordero  \n",
    "+ $x_4:$ Gramos de arroz  \n",
    "+ $x_5:$ Gramos de trigo  \n",
    "+ $x_6:$ Gramos de gel\n",
    "\n",
    "La tarea consiste en plantear el problemade programación lineal que permita satisfacer las necesidades alimenticias del gato al tiempo que minimice el costo total y resolverlo con `linprog`.\n",
    "\n",
    "Lo que se busca optimizar en este caso es la cantidad de productos que se debe utilizar en la comida de gato, para simplificar la notación se van a nombrar las siguientes variables:\n",
    "\n",
    "𝑥1:\n",
    "Gramos de pollo\n",
    "𝑥2: Gramos de carne\n",
    "𝑥3: Gramos de cordero\n",
    "𝑥4: Gramos de arroz\n",
    "𝑥5: Gramos de trigo\n",
    "𝑥6:\n",
    "\n",
    "Gramos de gel\n",
    "\n",
    "Con los datos, se puede plantear la función objetivo, está dada por la siguiente expresión:\n",
    "\n",
    "min0.013𝑥1+0.008𝑥2+0.010𝑥3+0.002𝑥4+0.005𝑥5+0.001𝑥6\n",
    "\n",
    "Las restricciones estarían dadas por el siguiente conjunto de ecuaciones:\n",
    "\n",
    "𝑥1+𝑥2+𝑥3+𝑥4+𝑥5+𝑥6=100\n",
    "\n",
    "(10.0𝑥1+20.0𝑥2+15.0𝑥3+00.0𝑥4+04.0𝑥5+00.0𝑥6)/100≥8.0\n",
    "\n",
    "(08.0𝑥1+10.0𝑥2+11.0𝑥3+01.0𝑥4+01.0𝑥5+00.0𝑥6)/100≥6.0\n",
    "\n",
    "(00.1𝑥1+00.5𝑥2+00.5𝑥3+10.0𝑥4+15.0𝑥5+00.0𝑥6)/100≤2.0\n",
    "\n",
    "(00.2𝑥1+00.5𝑥2+00.7𝑥3+00.2𝑥4+00.8𝑥5+00.0𝑥6)/100≤0.4\n",
    "\n",
    "La primer condición asegura que la cantidad de productos que se usará cumple con los 100 gramos. Las siguientes sólo siguen los lineamientos planteados para cumplir con los requisitos nutrimentales. "
   ]
  },
  {
   "cell_type": "code",
   "execution_count": 130,
   "metadata": {},
   "outputs": [],
   "source": [
    "# Matrices y cotas\n",
    "c = np.array([0.013,0.008,0.010,0.002,0.005,0.001])\n",
    "\n",
    "A_ineq = np.array([[1,1,1,1,1,1],\n",
    "                 [-0.1,-0.2,-0.15,0,-0.04,0],\n",
    "                 [-0.08,-0.1,-0.11,-0.01,-0.01,0],\n",
    "                 [0.0001,0.005,0.005,0.1,0.15,0],\n",
    "                 [0.002,0.005,0.007,0.002,0.008,0]])\n",
    "\n",
    "b_ineq = np.array([100,-8,-6,2,0.4])\n",
    "\n",
    "# bnds = ((0, None), (0, None), (0, None), (0, None), (0, None), (0, None))\n",
    "bnds = ((0, None),) * 6"
   ]
  },
  {
   "cell_type": "code",
   "execution_count": 131,
   "metadata": {},
   "outputs": [
    {
     "data": {
      "text/plain": [
       "     con: array([], dtype=float64)\n",
       "     fun: 0.480000022781727\n",
       " message: 'Optimization terminated successfully.'\n",
       "     nit: 7\n",
       "   slack: array([3.99999970e+01, 3.99999979e+00, 1.17804777e-07, 1.69999993e+00,\n",
       "       9.99999819e-02])\n",
       "  status: 0\n",
       " success: True\n",
       "       x: array([3.04269434e-07, 5.99999940e+01, 6.24482886e-06, 2.32315522e-08,\n",
       "       4.54207387e-07, 1.91982301e-06])"
      ]
     },
     "execution_count": 131,
     "metadata": {},
     "output_type": "execute_result"
    }
   ],
   "source": [
    "sol  = opt.linprog(c=c, A_ub=A_ineq, b_ub=b_ineq, bounds=bnds)\n",
    "sol"
   ]
  },
  {
   "cell_type": "code",
   "execution_count": 132,
   "metadata": {},
   "outputs": [
    {
     "data": {
      "text/plain": [
       "     con: array([], dtype=float64)\n",
       "     fun: 0.480000022781727\n",
       " message: 'Optimization terminated successfully.'\n",
       "     nit: 7\n",
       "   slack: array([3.99999970e+01, 3.99999979e+00, 1.17804777e-07, 1.69999993e+00,\n",
       "       9.99999819e-02])\n",
       "  status: 0\n",
       " success: True\n",
       "       x: array([3.04269434e-07, 5.99999940e+01, 6.24482886e-06, 2.32315522e-08,\n",
       "       4.54207387e-07, 1.91982301e-06])"
      ]
     },
     "execution_count": 132,
     "metadata": {},
     "output_type": "execute_result"
    }
   ],
   "source": [
    "opt.linprog(c=c, A_ub=A_ineq, b_ub=b_ineq)"
   ]
  },
  {
   "cell_type": "code",
   "execution_count": 133,
   "metadata": {},
   "outputs": [
    {
     "data": {
      "text/plain": [
       "array([ 0., 60.,  0.,  0.,  0.,  0.])"
      ]
     },
     "execution_count": 133,
     "metadata": {},
     "output_type": "execute_result"
    }
   ],
   "source": [
    "x_min = sol.x\n",
    "np.round(x_min)"
   ]
  },
  {
   "cell_type": "code",
   "execution_count": 128,
   "metadata": {},
   "outputs": [
    {
     "data": {
      "text/plain": [
       "array([0.013, 0.008, 0.01 , 0.002, 0.005, 0.001])"
      ]
     },
     "execution_count": 128,
     "metadata": {},
     "output_type": "execute_result"
    }
   ],
   "source": [
    "c"
   ]
  },
  {
   "cell_type": "code",
   "execution_count": 134,
   "metadata": {},
   "outputs": [
    {
     "data": {
      "text/plain": [
       "0.480000022781727"
      ]
     },
     "execution_count": 134,
     "metadata": {},
     "output_type": "execute_result"
    }
   ],
   "source": [
    "c.T.dot(x_min)"
   ]
  },
  {
   "cell_type": "code",
   "execution_count": null,
   "metadata": {},
   "outputs": [],
   "source": []
  },
  {
   "cell_type": "markdown",
   "metadata": {},
   "source": [
    "### Problema de distribución de energía eléctrica\n",
    "\n",
    "La Comisión Federal de Electricidad **(CFE)** dispone de cuatro plantas de generación para satisfacer la demanda diaria eléctrica en cuatro ciudades, Guadalajara, León y Morelia. Las plantas $1$, $2$ y $3$ pueden satisfacer $80$, $40$ y $60$ millones de KW al día respectivamente. Las necesidades de las ciudades de Guadalajara, León y Morelia son de $70$, $40$ y $70$ millones de Kw al día respectivamente. \n",
    "\n",
    "\n",
    "Los costos asociados al envío de suministro energético por cada millón de Kw entre cada planta y cada ciudad son los registrados en la siguiente tabla. \n",
    "\n",
    "-|Guadalajara|León|Morelia\n",
    ":----|----|----|----\n",
    "Planta 1|5|2|7\n",
    "Planta 2|3|6|6\n",
    "Planta 3|6|1|2\n",
    "\n",
    "Y por último, las restricciones del problema, van a estar dadas por las capacidades de oferta y demanda de cada planta (en millones de KW) y cada ciudad.\n",
    "\n",
    "Para simplificar la notación use las siguientes variables:\n",
    "\n",
    "+ $x_1$: Kw (en millones) distribuidos de la Planta 1 a Guadalajara\n",
    "+ $x_2$: Kw (en millones) distribuidos de la Planta 1 a León\n",
    "+ $x_3$: Kw (en millones) distribuidos de la Planta 1 a Morelia\n",
    "+ $x_4$: Kw (en millones) distribuidos de la Planta 2 a Guadalajara\n",
    "+ $x_5$: Kw (en millones) distribuidos de la Planta 2 a León\n",
    "+ $x_6$: Kw (en millones) distribuidos de la Planta 2 a Morelia\n",
    "+ $x_7$: Kw (en millones) distribuidos de la Planta 3 a Guadalajara\n",
    "+ $x_8$: Kw (en millones) distribuidos de la Planta 3 a León\n",
    "+ $x_9$: Kw (en millones) distribuidos de la Planta 3 a Morelia\n",
    "\n",
    "La tarea consiste en plantear el problema de programación lineal que permita satisfacer las necesidades de todas las ciudades al tiempo que minimice los costos asociados a la distribución y resolverlo con `linprog`.\n",
    "\n"
   ]
  },
  {
   "cell_type": "code",
   "execution_count": 141,
   "metadata": {},
   "outputs": [],
   "source": [
    "# Matrices y cotas\n",
    "c = np.array([5,2,7,3,6,6,6,1,2])\n",
    "\n",
    "A_ineq = np.array([[1,1,1,0,0,0,0,0,0],\n",
    "                  [0,0,0,1,1,1,0,0,0],\n",
    "                  [0,0,0,0,0,0,1,1,1],\n",
    "                  [-1,-1,-1,0,0,0,0,0,0],\n",
    "                  [0,0,0,-1,-1,-1,0,0,0],\n",
    "                  [0,0,0,0,0,0,-1,-1,-1]])\n",
    "\n",
    "b_ineq = np.array([80,40,60,-70,-40,-70])\n",
    "\n",
    "# bnds = ((0, None), (0, None), (0, None), (0, None), (0, None), (0, None))\n",
    "bnds = ((0, None),)*9"
   ]
  },
  {
   "cell_type": "code",
   "execution_count": 142,
   "metadata": {},
   "outputs": [
    {
     "data": {
      "text/plain": [
       "     con: array([], dtype=float64)\n",
       "     fun: 134.83932195390307\n",
       " message: 'The algorithm terminated successfully and determined that the problem is infeasible.'\n",
       "     nit: 5\n",
       "   slack: array([ 71.26798716,  34.36485206,  52.36663297, -61.26798716,\n",
       "       -34.36485206, -62.36663297])\n",
       "  status: 2\n",
       " success: False\n",
       "       x: array([1.52797527, 0.0645337 , 7.13950387, 0.47769044, 2.57872875,\n",
       "       2.57872875, 7.36633551, 0.01604137, 0.25099015])"
      ]
     },
     "execution_count": 142,
     "metadata": {},
     "output_type": "execute_result"
    }
   ],
   "source": [
    "sol  = opt.linprog(c=c, A_ub=A_ineq, b_ub=b_ineq, bounds=bnds)\n",
    "sol"
   ]
  },
  {
   "cell_type": "code",
   "execution_count": 143,
   "metadata": {},
   "outputs": [
    {
     "data": {
      "text/plain": [
       "     con: array([], dtype=float64)\n",
       "     fun: 134.83932195390307\n",
       " message: 'The algorithm terminated successfully and determined that the problem is infeasible.'\n",
       "     nit: 5\n",
       "   slack: array([ 71.26798716,  34.36485206,  52.36663297, -61.26798716,\n",
       "       -34.36485206, -62.36663297])\n",
       "  status: 2\n",
       " success: False\n",
       "       x: array([1.52797527, 0.0645337 , 7.13950387, 0.47769044, 2.57872875,\n",
       "       2.57872875, 7.36633551, 0.01604137, 0.25099015])"
      ]
     },
     "execution_count": 143,
     "metadata": {},
     "output_type": "execute_result"
    }
   ],
   "source": [
    "opt.linprog(c=c, A_ub=A_ineq, b_ub=b_ineq)"
   ]
  },
  {
   "cell_type": "code",
   "execution_count": 144,
   "metadata": {},
   "outputs": [
    {
     "data": {
      "text/plain": [
       "array([2., 0., 7., 0., 3., 3., 7., 0., 0.])"
      ]
     },
     "execution_count": 144,
     "metadata": {},
     "output_type": "execute_result"
    }
   ],
   "source": [
    "x_min = sol.x\n",
    "np.round(x_min)"
   ]
  },
  {
   "cell_type": "code",
   "execution_count": 145,
   "metadata": {},
   "outputs": [
    {
     "data": {
      "text/plain": [
       "array([5, 2, 7, 3, 6, 6, 6, 1, 2])"
      ]
     },
     "execution_count": 145,
     "metadata": {},
     "output_type": "execute_result"
    }
   ],
   "source": [
    "c"
   ]
  },
  {
   "cell_type": "code",
   "execution_count": 146,
   "metadata": {},
   "outputs": [
    {
     "data": {
      "text/plain": [
       "134.83932195390307"
      ]
     },
     "execution_count": 146,
     "metadata": {},
     "output_type": "execute_result"
    }
   ],
   "source": [
    "c.T.dot(x_min)"
   ]
  }
 ],
 "metadata": {
  "kernelspec": {
   "display_name": "Python 3 (ipykernel)",
   "language": "python",
   "name": "python3"
  },
  "language_info": {
   "codemirror_mode": {
    "name": "ipython",
    "version": 3
   },
   "file_extension": ".py",
   "mimetype": "text/x-python",
   "name": "python",
   "nbconvert_exporter": "python",
   "pygments_lexer": "ipython3",
   "version": "3.9.7"
  }
 },
 "nbformat": 4,
 "nbformat_minor": 2
}
